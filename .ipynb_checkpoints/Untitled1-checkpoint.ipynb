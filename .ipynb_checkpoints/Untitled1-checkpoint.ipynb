{
 "cells": [
  {
   "cell_type": "code",
   "execution_count": 1,
   "metadata": {},
   "outputs": [],
   "source": [
    "import numpy as np\n",
    "import pandas as pd\n",
    "import matplotlib.pyplot as plt\n",
    "import seaborn as sns"
   ]
  },
  {
   "cell_type": "code",
   "execution_count": 2,
   "metadata": {},
   "outputs": [
    {
     "data": {
      "text/plain": [
       "count    143.000000\n",
       "mean      10.916084\n",
       "std        1.598840\n",
       "min        6.000000\n",
       "25%       10.000000\n",
       "50%       11.000000\n",
       "75%       12.000000\n",
       "max       16.000000\n",
       "Name: total_power, dtype: float64"
      ]
     },
     "execution_count": 2,
     "metadata": {},
     "output_type": "execute_result"
    },
    {
     "data": {
      "image/png": "[encoded data removed]",
      "text/plain": [
       "<Figure size 432x288 with 1 Axes>"
      ]
     },
     "metadata": {
      "needs_background": "light"
     },
     "output_type": "display_data"
    }
   ],
   "source": [
    "# 2019-02-23 실험실!\n",
    "data = pd.read_csv('finished_version9.2.1.csv')\n",
    "data['total_power'] = data.attack + data.magic\n",
    "\n",
    "data.plot(kind='scatter', x='total_power', y='defense', alpha=0.2, color='gray')\n",
    "plt.xlabel('Power')\n",
    "plt.ylabel('Defense')\n",
    "plt.title('Total Power Defense Scatter Plot')\n",
    "\n",
    "data['total_power'].describe()\n",
    "\n",
    "#data['total_power'].nlargest()\n"
   ]
  },
  {
   "cell_type": "code",
   "execution_count": 3,
   "metadata": {},
   "outputs": [
    {
     "name": "stdout",
     "output_type": "stream",
     "text": [
      "count    143.000000\n",
      "mean       5.496503\n",
      "std        2.772791\n",
      "min        1.000000\n",
      "25%        3.000000\n",
      "50%        6.000000\n",
      "75%        8.000000\n",
      "max       10.000000\n",
      "Name: attack, dtype: float64\n",
      "---------------------------\n",
      "count    143.000000\n",
      "mean       5.419580\n",
      "std        2.730662\n",
      "min        1.000000\n",
      "25%        3.000000\n",
      "50%        6.000000\n",
      "75%        8.000000\n",
      "max       10.000000\n",
      "Name: magic, dtype: float64\n"
     ]
    }
   ],
   "source": [
    "print(data['attack'].describe())\n",
    "print('---------------------------')\n",
    "print(data['magic'].describe())"
   ]
  },
  {
   "cell_type": "code",
   "execution_count": 4,
   "metadata": {},
   "outputs": [
    {
     "data": {
      "text/plain": [
       "Text(0.5, 1.0, 'Total Power Defense Scatter Plot')"
      ]
     },
     "execution_count": 4,
     "metadata": {},
     "output_type": "execute_result"
    },
    {
     "data": {
      "image/png": "[encoded data removed]",
      "text/plain": [
       "<Figure size 432x288 with 1 Axes>"
      ]
     },
     "metadata": {
      "needs_background": "light"
     },
     "output_type": "display_data"
    }
   ],
   "source": [
    "#data = pd.read_csv('finished_version9.2.1.csv')\n",
    "data['balance_power'] = data.attack-data.magic\n",
    "data.plot(kind='scatter', x='balance_power', y='defense', alpha=0.2, color='gray')\n",
    "plt.xlabel('Power')\n",
    "plt.ylabel('Defense')\n",
    "plt.title('Total Power Defense Scatter Plot')"
   ]
  },
  {
   "cell_type": "code",
   "execution_count": 5,
   "metadata": {},
   "outputs": [
    {
     "name": "stdout",
     "output_type": "stream",
     "text": [
      "         name  balance_power  magic  attack  defense\n",
      "1        Ahri             -5      8       3        4\n",
      "30      Galio             -5      6       1       10\n",
      "51   Kassadin             -5      8       3        5\n",
      "52   Katarina             -5      9       4        3\n",
      "83    Orianna             -5      9       4        3\n",
      "95     Rumble             -5      8       3        6\n",
      "106    Soraka             -5      7       2        5\n",
      "108     Sylas             -5      8       3        4\n"
     ]
    }
   ],
   "source": [
    "#챔피언 검색폼\n",
    "power_filter = data['balance_power']== -5\n",
    "defense_filter = data['defense'] == 10\n",
    "#power_filter = data['total_power']>17\n",
    "# power_filter\n",
    "#print(data.loc[power_filter & defense_filter ,['name','balance_power','magic','attack','defense']])\n",
    "print(data.loc[power_filter  ,['name','balance_power','magic','attack','defense']])\n",
    "\n",
    "#data.boxplot(column='total_power')"
   ]
  },
  {
   "cell_type": "code",
   "execution_count": 13,
   "metadata": {},
   "outputs": [
    {
     "name": "stdout",
     "output_type": "stream",
     "text": [
      "         name  balance_power  total_power  magic  attack  defense\n",
      "9        Azir             -2           14      8       6        3\n",
      "18      Corki              2           14      6       8        3\n",
      "20      Diana             -1           15      8       7        6\n",
      "43        Jax              0           14      7       7        5\n",
      "45       Jhin              4           16      6      10        2\n",
      "98      Shaco              2           14      6       8        4\n",
      "116  Tristana              4           14      5       9        3\n"
     ]
    }
   ],
   "source": [
    "# attack+magic 높은 챔피언\n",
    "#power_filter = abs(data['balance_power']) < 3\n",
    "#defense_filter = data['defense'] == 9\n",
    "power_filter2 = data['total_power']>13\n",
    "# power_filter\n",
    "#print(data.loc[power_filter & defense_filter ,['name','balance_power','magic','attack','defense']])\n",
    "print(data.loc[ power_filter2 ,['name','balance_power','total_power','magic','attack','defense']])\n",
    "\n",
    "#data.boxplot(column='total_power')"
   ]
  },
  {
   "cell_type": "code",
   "execution_count": 12,
   "metadata": {},
   "outputs": [
    {
     "name": "stdout",
     "output_type": "stream",
     "text": [
      "             name  balance_power  total_power  magic  attack  defense\n",
      "3         Alistar              1           11      5       6        9\n",
      "10           Bard             -1            9      5       4        4\n",
      "11     Blitzcrank             -1            9      5       4        8\n",
      "13          Braum             -1            7      4       3        9\n",
      "20          Diana             -1           15      8       7        6\n",
      "22      Dr. Mundo             -1           11      6       5        7\n",
      "24          Elise             -1           13      7       6        5\n",
      "26         Ezreal              1           13      6       7        2\n",
      "29           Fizz             -1           13      7       6        4\n",
      "33           Gnar              1           11      5       6        5\n",
      "43            Jax              0           14      7       7        5\n",
      "53          Kayle             -1           13      7       6        6\n",
      "55         Kennen             -1           13      7       6        4\n",
      "62          Leona              1            7      3       4        8\n",
      "76          Nasus              1           13      6       7        5\n",
      "90         Rammus             -1            9      5       4       10\n",
      "97        Sejuani             -1           11      6       5        7\n",
      "99           Shen              0            6      3       3        9\n",
      "113         Taric             -1            9      5       4        8\n",
      "115        Thresh             -1           11      6       5        6\n",
      "119  Twisted Fate              0           12      6       6        2\n"
     ]
    }
   ],
   "source": [
    "#하이브리드 챔피언\n",
    "power_filter = abs(data['balance_power']) < 2\n",
    "# defense_filter = data['defense'] == 9\n",
    "# power_filter2 = data['total_power']>13\n",
    "# power_filter\n",
    "#print(data.loc[power_filter & defense_filter ,['name','balance_power','magic','attack','defense']])\n",
    "print(data.loc[ power_filter ,['name','balance_power','total_power','magic','attack','defense']])\n",
    "\n",
    "#data.boxplot(column='total_power')"
   ]
  },
  {
   "cell_type": "code",
   "execution_count": 16,
   "metadata": {},
   "outputs": [
    {
     "data": {
      "image/png": "[encoded data removed]",
      "text/plain": [
       "<Figure size 432x288 with 1 Axes>"
      ]
     },
     "metadata": {
      "needs_background": "light"
     },
     "output_type": "display_data"
    }
   ],
   "source": [
    "data.groupby('tag1').size()\n",
    "groups = data.groupby('tag1')\n",
    "\n",
    "fig, ax = plt.subplots()\n",
    "for name,group in groups:\n",
    "    ax.plot(group.balance_power,\n",
    "            group.defense,\n",
    "           marker='o',\n",
    "           linestyle='',\n",
    "           label=name)\n",
    "# data.plot(kind='scatter', x='balance_power', y='defense', alpha=0.2, color='gray')\n",
    "plt.xlabel('Power')\n",
    "plt.ylabel('Defense')\n",
    "plt.title('Total Power Defense Scatter Plot')\n",
    "ax.legend(fontsize=7, loc='upper right') # legend position\n",
    "\n",
    "#출처: https://rfriend.tistory.com/414 [R, Python 분석과 프로그래밍 (by R Friend)]\n",
    "plt.show()"
   ]
  },
  {
   "cell_type": "code",
   "execution_count": 64,
   "metadata": {},
   "outputs": [
    {
     "name": "stdout",
     "output_type": "stream",
     "text": [
      "count    143.000000\n",
      "mean      15.692308\n",
      "std        1.827916\n",
      "min       11.000000\n",
      "25%       15.000000\n",
      "50%       16.000000\n",
      "75%       17.000000\n",
      "max       21.000000\n",
      "Name: total_stat, dtype: float64\n",
      "         name  total_stat\n",
      "3     Alistar          20\n",
      "20      Diana          21\n",
      "43        Jax          19\n",
      "53      Kayle          19\n",
      "67   Malphite          21\n",
      "90     Rammus          19\n",
      "101    Singed          19\n",
      "121      Udyr          19\n"
     ]
    },
    {
     "data": {
      "text/plain": [
       "<matplotlib.axes._subplots.AxesSubplot at 0x4ab8610>"
      ]
     },
     "execution_count": 64,
     "metadata": {},
     "output_type": "execute_result"
    },
    {
     "data": {
      "image/png": "[encoded data removed]",
      "text/plain": [
       "<Figure size 432x288 with 1 Axes>"
      ]
     },
     "metadata": {
      "needs_background": "light"
     },
     "output_type": "display_data"
    }
   ],
   "source": [
    "#방어, 마법, 공격 모두 고려했을때  : 다이애나, 말파 > 알리 >잭스, 케일, 람머스, 신지드, 케일\n",
    "data['total_stat'] = data.attack + data.magic + data.defense\n",
    "\n",
    "print(data['total_stat'].describe())\n",
    "# print(data[['name','total_power']])\n",
    "\n",
    "# power_filter = data['total_power']==21\n",
    "\n",
    "power_filter = data['total_stat']>18\n",
    "# power_filter\n",
    "print(data.loc[power_filter,['name','total_stat']])\n",
    "\n",
    "data.boxplot(column='total_stat')"
   ]
  },
  {
   "cell_type": "code",
   "execution_count": null,
   "metadata": {},
   "outputs": [],
   "source": []
  }
 ],
 "metadata": {
  "kernelspec": {
   "display_name": "Python 3",
   "language": "python",
   "name": "python3"
  },
  "language_info": {
   "codemirror_mode": {
    "name": "ipython",
    "version": 3
   },
   "file_extension": ".py",
   "mimetype": "text/x-python",
   "name": "python",
   "nbconvert_exporter": "python",
   "pygments_lexer": "ipython3",
   "version": "3.7.1"
  }
 },
 "nbformat": 4,
 "nbformat_minor": 2
}
